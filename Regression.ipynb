{
  "nbformat": 4,
  "nbformat_minor": 0,
  "metadata": {
    "colab": {
      "provenance": []
    },
    "kernelspec": {
      "name": "python3",
      "display_name": "Python 3"
    },
    "language_info": {
      "name": "python"
    },
    "accelerator": "GPU",
    "gpuClass": "standard"
  },
  "cells": [
    {
      "cell_type": "code",
      "source": [
        "# https://github.com/NourozR/Stock-Price-Prediction-LSTM\n",
        "# Apache 2.0 License"
      ],
      "metadata": {
        "id": "l2X9T2jUNgsg"
      },
      "execution_count": 1,
      "outputs": []
    },
    {
      "cell_type": "code",
      "execution_count": 2,
      "metadata": {
        "colab": {
          "base_uri": "https://localhost:8080/"
        },
        "id": "4m1GM9ioPiRH",
        "outputId": "cc4a31c0-5235-4059-ca02-97aecc58e6db"
      },
      "outputs": [
        {
          "output_type": "stream",
          "name": "stdout",
          "text": [
            "2.9.2\n"
          ]
        }
      ],
      "source": [
        "%matplotlib inline\n",
        "\n",
        "import math\n",
        "import time\n",
        "import numpy as np\n",
        "import pandas as pd\n",
        "import seaborn as sns\n",
        "import tensorflow as tf\n",
        "from keras.layers import LSTM\n",
        "import matplotlib.pyplot as plt\n",
        "from keras.models import Sequential\n",
        "from keras.layers import Dense, Activation\n",
        "from sklearn.metrics import mean_squared_error\n",
        "from sklearn.preprocessing import MinMaxScaler\n",
        "from datetime import date, datetime, time, timedelta\n",
        "\n",
        "print(tf.__version__)"
      ]
    },
    {
      "cell_type": "code",
      "source": [
        "def new_dataset(dataset, step_size):\n",
        "\tdata_X, data_Y = [], []\n",
        "\tfor i in range(len(dataset)-step_size-1):\n",
        "\t\ta = dataset[i:(i+step_size), 0]\n",
        "\t\tdata_X.append(a)\n",
        "\t\tdata_Y.append(dataset[i + step_size, 0])\n",
        "\treturn np.array(data_X), np.array(data_Y)"
      ],
      "metadata": {
        "id": "X_3aNFVDmOpm"
      },
      "execution_count": 3,
      "outputs": []
    },
    {
      "cell_type": "code",
      "source": [
        "# Github에 올려둔 Dataset을 불러옴.\n",
        "!git clone https://github.com/kryowen/23W-OSSP.git\n",
        "\n",
        "dataframe = pd.read_csv('/content/23W-OSSP/AAPL.csv', sep=',')\n",
        "dataframe.reindex(index = dataframe.index[::-1])\n",
        "dataset = dataframe.copy()\n",
        "\n",
        "# Dataset에 저장된 상위의 레코드 5개를 보여줌.\n",
        "dataset.head()"
      ],
      "metadata": {
        "colab": {
          "base_uri": "https://localhost:8080/",
          "height": 225
        },
        "id": "80OvxdeEQXjb",
        "outputId": "09a95841-cbe2-4fe6-d667-06e127ccbef0"
      },
      "execution_count": 4,
      "outputs": [
        {
          "output_type": "stream",
          "name": "stdout",
          "text": [
            "fatal: destination path '23W-OSSP' already exists and is not an empty directory.\n"
          ]
        },
        {
          "output_type": "execute_result",
          "data": {
            "text/plain": [
              "         Date      Open      High       Low     Close  Adj Close     Volume\n",
              "0  2010-01-04  7.622500  7.660714  7.585000  7.643214   6.515212  493729600\n",
              "1  2010-01-05  7.664286  7.699643  7.616071  7.656429   6.526476  601904800\n",
              "2  2010-01-06  7.656429  7.686786  7.526786  7.534643   6.422664  552160000\n",
              "3  2010-01-07  7.562500  7.571429  7.466071  7.520714   6.410791  477131200\n",
              "4  2010-01-08  7.510714  7.571429  7.466429  7.570714   6.453413  447610800"
            ],
            "text/html": [
              "\n",
              "  <div id=\"df-b59288f6-0fc6-46ee-a7d8-4cf74bd2030f\">\n",
              "    <div class=\"colab-df-container\">\n",
              "      <div>\n",
              "<style scoped>\n",
              "    .dataframe tbody tr th:only-of-type {\n",
              "        vertical-align: middle;\n",
              "    }\n",
              "\n",
              "    .dataframe tbody tr th {\n",
              "        vertical-align: top;\n",
              "    }\n",
              "\n",
              "    .dataframe thead th {\n",
              "        text-align: right;\n",
              "    }\n",
              "</style>\n",
              "<table border=\"1\" class=\"dataframe\">\n",
              "  <thead>\n",
              "    <tr style=\"text-align: right;\">\n",
              "      <th></th>\n",
              "      <th>Date</th>\n",
              "      <th>Open</th>\n",
              "      <th>High</th>\n",
              "      <th>Low</th>\n",
              "      <th>Close</th>\n",
              "      <th>Adj Close</th>\n",
              "      <th>Volume</th>\n",
              "    </tr>\n",
              "  </thead>\n",
              "  <tbody>\n",
              "    <tr>\n",
              "      <th>0</th>\n",
              "      <td>2010-01-04</td>\n",
              "      <td>7.622500</td>\n",
              "      <td>7.660714</td>\n",
              "      <td>7.585000</td>\n",
              "      <td>7.643214</td>\n",
              "      <td>6.515212</td>\n",
              "      <td>493729600</td>\n",
              "    </tr>\n",
              "    <tr>\n",
              "      <th>1</th>\n",
              "      <td>2010-01-05</td>\n",
              "      <td>7.664286</td>\n",
              "      <td>7.699643</td>\n",
              "      <td>7.616071</td>\n",
              "      <td>7.656429</td>\n",
              "      <td>6.526476</td>\n",
              "      <td>601904800</td>\n",
              "    </tr>\n",
              "    <tr>\n",
              "      <th>2</th>\n",
              "      <td>2010-01-06</td>\n",
              "      <td>7.656429</td>\n",
              "      <td>7.686786</td>\n",
              "      <td>7.526786</td>\n",
              "      <td>7.534643</td>\n",
              "      <td>6.422664</td>\n",
              "      <td>552160000</td>\n",
              "    </tr>\n",
              "    <tr>\n",
              "      <th>3</th>\n",
              "      <td>2010-01-07</td>\n",
              "      <td>7.562500</td>\n",
              "      <td>7.571429</td>\n",
              "      <td>7.466071</td>\n",
              "      <td>7.520714</td>\n",
              "      <td>6.410791</td>\n",
              "      <td>477131200</td>\n",
              "    </tr>\n",
              "    <tr>\n",
              "      <th>4</th>\n",
              "      <td>2010-01-08</td>\n",
              "      <td>7.510714</td>\n",
              "      <td>7.571429</td>\n",
              "      <td>7.466429</td>\n",
              "      <td>7.570714</td>\n",
              "      <td>6.453413</td>\n",
              "      <td>447610800</td>\n",
              "    </tr>\n",
              "  </tbody>\n",
              "</table>\n",
              "</div>\n",
              "      <button class=\"colab-df-convert\" onclick=\"convertToInteractive('df-b59288f6-0fc6-46ee-a7d8-4cf74bd2030f')\"\n",
              "              title=\"Convert this dataframe to an interactive table.\"\n",
              "              style=\"display:none;\">\n",
              "        \n",
              "  <svg xmlns=\"http://www.w3.org/2000/svg\" height=\"24px\"viewBox=\"0 0 24 24\"\n",
              "       width=\"24px\">\n",
              "    <path d=\"M0 0h24v24H0V0z\" fill=\"none\"/>\n",
              "    <path d=\"M18.56 5.44l.94 2.06.94-2.06 2.06-.94-2.06-.94-.94-2.06-.94 2.06-2.06.94zm-11 1L8.5 8.5l.94-2.06 2.06-.94-2.06-.94L8.5 2.5l-.94 2.06-2.06.94zm10 10l.94 2.06.94-2.06 2.06-.94-2.06-.94-.94-2.06-.94 2.06-2.06.94z\"/><path d=\"M17.41 7.96l-1.37-1.37c-.4-.4-.92-.59-1.43-.59-.52 0-1.04.2-1.43.59L10.3 9.45l-7.72 7.72c-.78.78-.78 2.05 0 2.83L4 21.41c.39.39.9.59 1.41.59.51 0 1.02-.2 1.41-.59l7.78-7.78 2.81-2.81c.8-.78.8-2.07 0-2.86zM5.41 20L4 18.59l7.72-7.72 1.47 1.35L5.41 20z\"/>\n",
              "  </svg>\n",
              "      </button>\n",
              "      \n",
              "  <style>\n",
              "    .colab-df-container {\n",
              "      display:flex;\n",
              "      flex-wrap:wrap;\n",
              "      gap: 12px;\n",
              "    }\n",
              "\n",
              "    .colab-df-convert {\n",
              "      background-color: #E8F0FE;\n",
              "      border: none;\n",
              "      border-radius: 50%;\n",
              "      cursor: pointer;\n",
              "      display: none;\n",
              "      fill: #1967D2;\n",
              "      height: 32px;\n",
              "      padding: 0 0 0 0;\n",
              "      width: 32px;\n",
              "    }\n",
              "\n",
              "    .colab-df-convert:hover {\n",
              "      background-color: #E2EBFA;\n",
              "      box-shadow: 0px 1px 2px rgba(60, 64, 67, 0.3), 0px 1px 3px 1px rgba(60, 64, 67, 0.15);\n",
              "      fill: #174EA6;\n",
              "    }\n",
              "\n",
              "    [theme=dark] .colab-df-convert {\n",
              "      background-color: #3B4455;\n",
              "      fill: #D2E3FC;\n",
              "    }\n",
              "\n",
              "    [theme=dark] .colab-df-convert:hover {\n",
              "      background-color: #434B5C;\n",
              "      box-shadow: 0px 1px 3px 1px rgba(0, 0, 0, 0.15);\n",
              "      filter: drop-shadow(0px 1px 2px rgba(0, 0, 0, 0.3));\n",
              "      fill: #FFFFFF;\n",
              "    }\n",
              "  </style>\n",
              "\n",
              "      <script>\n",
              "        const buttonEl =\n",
              "          document.querySelector('#df-b59288f6-0fc6-46ee-a7d8-4cf74bd2030f button.colab-df-convert');\n",
              "        buttonEl.style.display =\n",
              "          google.colab.kernel.accessAllowed ? 'block' : 'none';\n",
              "\n",
              "        async function convertToInteractive(key) {\n",
              "          const element = document.querySelector('#df-b59288f6-0fc6-46ee-a7d8-4cf74bd2030f');\n",
              "          const dataTable =\n",
              "            await google.colab.kernel.invokeFunction('convertToInteractive',\n",
              "                                                     [key], {});\n",
              "          if (!dataTable) return;\n",
              "\n",
              "          const docLinkHtml = 'Like what you see? Visit the ' +\n",
              "            '<a target=\"_blank\" href=https://colab.research.google.com/notebooks/data_table.ipynb>data table notebook</a>'\n",
              "            + ' to learn more about interactive tables.';\n",
              "          element.innerHTML = '';\n",
              "          dataTable['output_type'] = 'display_data';\n",
              "          await google.colab.output.renderOutput(dataTable, element);\n",
              "          const docLink = document.createElement('div');\n",
              "          docLink.innerHTML = docLinkHtml;\n",
              "          element.appendChild(docLink);\n",
              "        }\n",
              "      </script>\n",
              "    </div>\n",
              "  </div>\n",
              "  "
            ]
          },
          "metadata": {},
          "execution_count": 4
        }
      ]
    },
    {
      "cell_type": "code",
      "source": [
        "# Object 타입을 올바른 자료형으로 변경\n",
        "dataset['Date'] = pd.to_datetime(dataset['Date'])\n",
        "dataset['Open'] = np.array(dataset['Open'], dtype='float64')\n",
        "dataset['High'] = np.array(dataset['High'], dtype='float64')\n",
        "dataset['Low'] = np.array(dataset['Low'], dtype='float64')\n",
        "dataset['Close'] = np.array(dataset['Close'], dtype='float64')\n",
        "dataset['Adj Close'] = np.array(dataset['Adj Close'], dtype='float64')\n",
        "dataset['Volume'] = np.array(dataset['Volume'], dtype='int64')"
      ],
      "metadata": {
        "id": "a_blADmAiSm1"
      },
      "execution_count": 5,
      "outputs": []
    },
    {
      "cell_type": "code",
      "source": [
        "# NULL 값 확인\n",
        "print(dataset.isna().sum())\n",
        "\n",
        "# Dateset 확인\n",
        "dataset.tail()"
      ],
      "metadata": {
        "colab": {
          "base_uri": "https://localhost:8080/",
          "height": 356
        },
        "id": "_sLA8u1nivRa",
        "outputId": "6bcbd310-8add-4c39-d131-23cb4d6a861e"
      },
      "execution_count": 6,
      "outputs": [
        {
          "output_type": "stream",
          "name": "stdout",
          "text": [
            "Date         0\n",
            "Open         0\n",
            "High         0\n",
            "Low          0\n",
            "Close        0\n",
            "Adj Close    0\n",
            "Volume       0\n",
            "dtype: int64\n"
          ]
        },
        {
          "output_type": "execute_result",
          "data": {
            "text/plain": [
              "           Date        Open        High         Low       Close   Adj Close  \\\n",
              "3255 2022-12-07  142.190002  143.369995  140.000000  140.940002  140.940002   \n",
              "3256 2022-12-08  142.360001  143.520004  141.100006  142.649994  142.649994   \n",
              "3257 2022-12-09  142.339996  145.570007  140.899994  142.160004  142.160004   \n",
              "3258 2022-12-12  142.699997  144.500000  141.059998  144.490005  144.490005   \n",
              "3259 2022-12-13  149.500000  149.970001  144.240005  145.470001  145.470001   \n",
              "\n",
              "        Volume  \n",
              "3255  69721100  \n",
              "3256  62128300  \n",
              "3257  76069500  \n",
              "3258  70462700  \n",
              "3259  93831400  "
            ],
            "text/html": [
              "\n",
              "  <div id=\"df-bd826122-4a04-4151-a8d5-c33952e0f91a\">\n",
              "    <div class=\"colab-df-container\">\n",
              "      <div>\n",
              "<style scoped>\n",
              "    .dataframe tbody tr th:only-of-type {\n",
              "        vertical-align: middle;\n",
              "    }\n",
              "\n",
              "    .dataframe tbody tr th {\n",
              "        vertical-align: top;\n",
              "    }\n",
              "\n",
              "    .dataframe thead th {\n",
              "        text-align: right;\n",
              "    }\n",
              "</style>\n",
              "<table border=\"1\" class=\"dataframe\">\n",
              "  <thead>\n",
              "    <tr style=\"text-align: right;\">\n",
              "      <th></th>\n",
              "      <th>Date</th>\n",
              "      <th>Open</th>\n",
              "      <th>High</th>\n",
              "      <th>Low</th>\n",
              "      <th>Close</th>\n",
              "      <th>Adj Close</th>\n",
              "      <th>Volume</th>\n",
              "    </tr>\n",
              "  </thead>\n",
              "  <tbody>\n",
              "    <tr>\n",
              "      <th>3255</th>\n",
              "      <td>2022-12-07</td>\n",
              "      <td>142.190002</td>\n",
              "      <td>143.369995</td>\n",
              "      <td>140.000000</td>\n",
              "      <td>140.940002</td>\n",
              "      <td>140.940002</td>\n",
              "      <td>69721100</td>\n",
              "    </tr>\n",
              "    <tr>\n",
              "      <th>3256</th>\n",
              "      <td>2022-12-08</td>\n",
              "      <td>142.360001</td>\n",
              "      <td>143.520004</td>\n",
              "      <td>141.100006</td>\n",
              "      <td>142.649994</td>\n",
              "      <td>142.649994</td>\n",
              "      <td>62128300</td>\n",
              "    </tr>\n",
              "    <tr>\n",
              "      <th>3257</th>\n",
              "      <td>2022-12-09</td>\n",
              "      <td>142.339996</td>\n",
              "      <td>145.570007</td>\n",
              "      <td>140.899994</td>\n",
              "      <td>142.160004</td>\n",
              "      <td>142.160004</td>\n",
              "      <td>76069500</td>\n",
              "    </tr>\n",
              "    <tr>\n",
              "      <th>3258</th>\n",
              "      <td>2022-12-12</td>\n",
              "      <td>142.699997</td>\n",
              "      <td>144.500000</td>\n",
              "      <td>141.059998</td>\n",
              "      <td>144.490005</td>\n",
              "      <td>144.490005</td>\n",
              "      <td>70462700</td>\n",
              "    </tr>\n",
              "    <tr>\n",
              "      <th>3259</th>\n",
              "      <td>2022-12-13</td>\n",
              "      <td>149.500000</td>\n",
              "      <td>149.970001</td>\n",
              "      <td>144.240005</td>\n",
              "      <td>145.470001</td>\n",
              "      <td>145.470001</td>\n",
              "      <td>93831400</td>\n",
              "    </tr>\n",
              "  </tbody>\n",
              "</table>\n",
              "</div>\n",
              "      <button class=\"colab-df-convert\" onclick=\"convertToInteractive('df-bd826122-4a04-4151-a8d5-c33952e0f91a')\"\n",
              "              title=\"Convert this dataframe to an interactive table.\"\n",
              "              style=\"display:none;\">\n",
              "        \n",
              "  <svg xmlns=\"http://www.w3.org/2000/svg\" height=\"24px\"viewBox=\"0 0 24 24\"\n",
              "       width=\"24px\">\n",
              "    <path d=\"M0 0h24v24H0V0z\" fill=\"none\"/>\n",
              "    <path d=\"M18.56 5.44l.94 2.06.94-2.06 2.06-.94-2.06-.94-.94-2.06-.94 2.06-2.06.94zm-11 1L8.5 8.5l.94-2.06 2.06-.94-2.06-.94L8.5 2.5l-.94 2.06-2.06.94zm10 10l.94 2.06.94-2.06 2.06-.94-2.06-.94-.94-2.06-.94 2.06-2.06.94z\"/><path d=\"M17.41 7.96l-1.37-1.37c-.4-.4-.92-.59-1.43-.59-.52 0-1.04.2-1.43.59L10.3 9.45l-7.72 7.72c-.78.78-.78 2.05 0 2.83L4 21.41c.39.39.9.59 1.41.59.51 0 1.02-.2 1.41-.59l7.78-7.78 2.81-2.81c.8-.78.8-2.07 0-2.86zM5.41 20L4 18.59l7.72-7.72 1.47 1.35L5.41 20z\"/>\n",
              "  </svg>\n",
              "      </button>\n",
              "      \n",
              "  <style>\n",
              "    .colab-df-container {\n",
              "      display:flex;\n",
              "      flex-wrap:wrap;\n",
              "      gap: 12px;\n",
              "    }\n",
              "\n",
              "    .colab-df-convert {\n",
              "      background-color: #E8F0FE;\n",
              "      border: none;\n",
              "      border-radius: 50%;\n",
              "      cursor: pointer;\n",
              "      display: none;\n",
              "      fill: #1967D2;\n",
              "      height: 32px;\n",
              "      padding: 0 0 0 0;\n",
              "      width: 32px;\n",
              "    }\n",
              "\n",
              "    .colab-df-convert:hover {\n",
              "      background-color: #E2EBFA;\n",
              "      box-shadow: 0px 1px 2px rgba(60, 64, 67, 0.3), 0px 1px 3px 1px rgba(60, 64, 67, 0.15);\n",
              "      fill: #174EA6;\n",
              "    }\n",
              "\n",
              "    [theme=dark] .colab-df-convert {\n",
              "      background-color: #3B4455;\n",
              "      fill: #D2E3FC;\n",
              "    }\n",
              "\n",
              "    [theme=dark] .colab-df-convert:hover {\n",
              "      background-color: #434B5C;\n",
              "      box-shadow: 0px 1px 3px 1px rgba(0, 0, 0, 0.15);\n",
              "      filter: drop-shadow(0px 1px 2px rgba(0, 0, 0, 0.3));\n",
              "      fill: #FFFFFF;\n",
              "    }\n",
              "  </style>\n",
              "\n",
              "      <script>\n",
              "        const buttonEl =\n",
              "          document.querySelector('#df-bd826122-4a04-4151-a8d5-c33952e0f91a button.colab-df-convert');\n",
              "        buttonEl.style.display =\n",
              "          google.colab.kernel.accessAllowed ? 'block' : 'none';\n",
              "\n",
              "        async function convertToInteractive(key) {\n",
              "          const element = document.querySelector('#df-bd826122-4a04-4151-a8d5-c33952e0f91a');\n",
              "          const dataTable =\n",
              "            await google.colab.kernel.invokeFunction('convertToInteractive',\n",
              "                                                     [key], {});\n",
              "          if (!dataTable) return;\n",
              "\n",
              "          const docLinkHtml = 'Like what you see? Visit the ' +\n",
              "            '<a target=\"_blank\" href=https://colab.research.google.com/notebooks/data_table.ipynb>data table notebook</a>'\n",
              "            + ' to learn more about interactive tables.';\n",
              "          element.innerHTML = '';\n",
              "          dataTable['output_type'] = 'display_data';\n",
              "          await google.colab.output.renderOutput(dataTable, element);\n",
              "          const docLink = document.createElement('div');\n",
              "          docLink.innerHTML = docLinkHtml;\n",
              "          element.appendChild(docLink);\n",
              "        }\n",
              "      </script>\n",
              "    </div>\n",
              "  </div>\n",
              "  "
            ]
          },
          "metadata": {},
          "execution_count": 6
        }
      ]
    },
    {
      "cell_type": "code",
      "source": [
        "# data 정보 확인\n",
        "dataset.describe().transpose()"
      ],
      "metadata": {
        "colab": {
          "base_uri": "https://localhost:8080/",
          "height": 237
        },
        "id": "KbtVsAk_Pbi8",
        "outputId": "935622f2-e452-4da3-d485-f9e742183560"
      },
      "execution_count": 7,
      "outputs": [
        {
          "output_type": "execute_result",
          "data": {
            "text/plain": [
              "            count          mean           std           min           25%  \\\n",
              "Open       3260.0  5.099413e+01  4.714870e+01  6.870357e+00  1.895223e+01   \n",
              "High       3260.0  5.156337e+01  4.775885e+01  7.000000e+00  1.909661e+01   \n",
              "Low        3260.0  5.043574e+01  4.656118e+01  6.794643e+00  1.876518e+01   \n",
              "Close      3260.0  5.102113e+01  4.718399e+01  6.858929e+00  1.895286e+01   \n",
              "Adj Close  3260.0  4.916285e+01  4.764249e+01  5.846675e+00  1.661353e+01   \n",
              "Volume     3260.0  2.568971e+08  2.227294e+08  3.519590e+07  1.027816e+08   \n",
              "\n",
              "                    50%           75%           max  \n",
              "Open       2.968000e+01  5.637625e+01  1.826300e+02  \n",
              "High       2.991875e+01  5.689125e+01  1.829400e+02  \n",
              "Low        2.945500e+01  5.566063e+01  1.791200e+02  \n",
              "Close      2.974875e+01  5.617000e+01  1.820100e+02  \n",
              "Adj Close  2.731521e+01  5.455201e+01  1.809597e+02  \n",
              "Volume     1.674684e+08  3.463847e+08  1.880998e+09  "
            ],
            "text/html": [
              "\n",
              "  <div id=\"df-190049f1-f206-4452-a6c2-623ef0e810ac\">\n",
              "    <div class=\"colab-df-container\">\n",
              "      <div>\n",
              "<style scoped>\n",
              "    .dataframe tbody tr th:only-of-type {\n",
              "        vertical-align: middle;\n",
              "    }\n",
              "\n",
              "    .dataframe tbody tr th {\n",
              "        vertical-align: top;\n",
              "    }\n",
              "\n",
              "    .dataframe thead th {\n",
              "        text-align: right;\n",
              "    }\n",
              "</style>\n",
              "<table border=\"1\" class=\"dataframe\">\n",
              "  <thead>\n",
              "    <tr style=\"text-align: right;\">\n",
              "      <th></th>\n",
              "      <th>count</th>\n",
              "      <th>mean</th>\n",
              "      <th>std</th>\n",
              "      <th>min</th>\n",
              "      <th>25%</th>\n",
              "      <th>50%</th>\n",
              "      <th>75%</th>\n",
              "      <th>max</th>\n",
              "    </tr>\n",
              "  </thead>\n",
              "  <tbody>\n",
              "    <tr>\n",
              "      <th>Open</th>\n",
              "      <td>3260.0</td>\n",
              "      <td>5.099413e+01</td>\n",
              "      <td>4.714870e+01</td>\n",
              "      <td>6.870357e+00</td>\n",
              "      <td>1.895223e+01</td>\n",
              "      <td>2.968000e+01</td>\n",
              "      <td>5.637625e+01</td>\n",
              "      <td>1.826300e+02</td>\n",
              "    </tr>\n",
              "    <tr>\n",
              "      <th>High</th>\n",
              "      <td>3260.0</td>\n",
              "      <td>5.156337e+01</td>\n",
              "      <td>4.775885e+01</td>\n",
              "      <td>7.000000e+00</td>\n",
              "      <td>1.909661e+01</td>\n",
              "      <td>2.991875e+01</td>\n",
              "      <td>5.689125e+01</td>\n",
              "      <td>1.829400e+02</td>\n",
              "    </tr>\n",
              "    <tr>\n",
              "      <th>Low</th>\n",
              "      <td>3260.0</td>\n",
              "      <td>5.043574e+01</td>\n",
              "      <td>4.656118e+01</td>\n",
              "      <td>6.794643e+00</td>\n",
              "      <td>1.876518e+01</td>\n",
              "      <td>2.945500e+01</td>\n",
              "      <td>5.566063e+01</td>\n",
              "      <td>1.791200e+02</td>\n",
              "    </tr>\n",
              "    <tr>\n",
              "      <th>Close</th>\n",
              "      <td>3260.0</td>\n",
              "      <td>5.102113e+01</td>\n",
              "      <td>4.718399e+01</td>\n",
              "      <td>6.858929e+00</td>\n",
              "      <td>1.895286e+01</td>\n",
              "      <td>2.974875e+01</td>\n",
              "      <td>5.617000e+01</td>\n",
              "      <td>1.820100e+02</td>\n",
              "    </tr>\n",
              "    <tr>\n",
              "      <th>Adj Close</th>\n",
              "      <td>3260.0</td>\n",
              "      <td>4.916285e+01</td>\n",
              "      <td>4.764249e+01</td>\n",
              "      <td>5.846675e+00</td>\n",
              "      <td>1.661353e+01</td>\n",
              "      <td>2.731521e+01</td>\n",
              "      <td>5.455201e+01</td>\n",
              "      <td>1.809597e+02</td>\n",
              "    </tr>\n",
              "    <tr>\n",
              "      <th>Volume</th>\n",
              "      <td>3260.0</td>\n",
              "      <td>2.568971e+08</td>\n",
              "      <td>2.227294e+08</td>\n",
              "      <td>3.519590e+07</td>\n",
              "      <td>1.027816e+08</td>\n",
              "      <td>1.674684e+08</td>\n",
              "      <td>3.463847e+08</td>\n",
              "      <td>1.880998e+09</td>\n",
              "    </tr>\n",
              "  </tbody>\n",
              "</table>\n",
              "</div>\n",
              "      <button class=\"colab-df-convert\" onclick=\"convertToInteractive('df-190049f1-f206-4452-a6c2-623ef0e810ac')\"\n",
              "              title=\"Convert this dataframe to an interactive table.\"\n",
              "              style=\"display:none;\">\n",
              "        \n",
              "  <svg xmlns=\"http://www.w3.org/2000/svg\" height=\"24px\"viewBox=\"0 0 24 24\"\n",
              "       width=\"24px\">\n",
              "    <path d=\"M0 0h24v24H0V0z\" fill=\"none\"/>\n",
              "    <path d=\"M18.56 5.44l.94 2.06.94-2.06 2.06-.94-2.06-.94-.94-2.06-.94 2.06-2.06.94zm-11 1L8.5 8.5l.94-2.06 2.06-.94-2.06-.94L8.5 2.5l-.94 2.06-2.06.94zm10 10l.94 2.06.94-2.06 2.06-.94-2.06-.94-.94-2.06-.94 2.06-2.06.94z\"/><path d=\"M17.41 7.96l-1.37-1.37c-.4-.4-.92-.59-1.43-.59-.52 0-1.04.2-1.43.59L10.3 9.45l-7.72 7.72c-.78.78-.78 2.05 0 2.83L4 21.41c.39.39.9.59 1.41.59.51 0 1.02-.2 1.41-.59l7.78-7.78 2.81-2.81c.8-.78.8-2.07 0-2.86zM5.41 20L4 18.59l7.72-7.72 1.47 1.35L5.41 20z\"/>\n",
              "  </svg>\n",
              "      </button>\n",
              "      \n",
              "  <style>\n",
              "    .colab-df-container {\n",
              "      display:flex;\n",
              "      flex-wrap:wrap;\n",
              "      gap: 12px;\n",
              "    }\n",
              "\n",
              "    .colab-df-convert {\n",
              "      background-color: #E8F0FE;\n",
              "      border: none;\n",
              "      border-radius: 50%;\n",
              "      cursor: pointer;\n",
              "      display: none;\n",
              "      fill: #1967D2;\n",
              "      height: 32px;\n",
              "      padding: 0 0 0 0;\n",
              "      width: 32px;\n",
              "    }\n",
              "\n",
              "    .colab-df-convert:hover {\n",
              "      background-color: #E2EBFA;\n",
              "      box-shadow: 0px 1px 2px rgba(60, 64, 67, 0.3), 0px 1px 3px 1px rgba(60, 64, 67, 0.15);\n",
              "      fill: #174EA6;\n",
              "    }\n",
              "\n",
              "    [theme=dark] .colab-df-convert {\n",
              "      background-color: #3B4455;\n",
              "      fill: #D2E3FC;\n",
              "    }\n",
              "\n",
              "    [theme=dark] .colab-df-convert:hover {\n",
              "      background-color: #434B5C;\n",
              "      box-shadow: 0px 1px 3px 1px rgba(0, 0, 0, 0.15);\n",
              "      filter: drop-shadow(0px 1px 2px rgba(0, 0, 0, 0.3));\n",
              "      fill: #FFFFFF;\n",
              "    }\n",
              "  </style>\n",
              "\n",
              "      <script>\n",
              "        const buttonEl =\n",
              "          document.querySelector('#df-190049f1-f206-4452-a6c2-623ef0e810ac button.colab-df-convert');\n",
              "        buttonEl.style.display =\n",
              "          google.colab.kernel.accessAllowed ? 'block' : 'none';\n",
              "\n",
              "        async function convertToInteractive(key) {\n",
              "          const element = document.querySelector('#df-190049f1-f206-4452-a6c2-623ef0e810ac');\n",
              "          const dataTable =\n",
              "            await google.colab.kernel.invokeFunction('convertToInteractive',\n",
              "                                                     [key], {});\n",
              "          if (!dataTable) return;\n",
              "\n",
              "          const docLinkHtml = 'Like what you see? Visit the ' +\n",
              "            '<a target=\"_blank\" href=https://colab.research.google.com/notebooks/data_table.ipynb>data table notebook</a>'\n",
              "            + ' to learn more about interactive tables.';\n",
              "          element.innerHTML = '';\n",
              "          dataTable['output_type'] = 'display_data';\n",
              "          await google.colab.output.renderOutput(dataTable, element);\n",
              "          const docLink = document.createElement('div');\n",
              "          docLink.innerHTML = docLinkHtml;\n",
              "          element.appendChild(docLink);\n",
              "        }\n",
              "      </script>\n",
              "    </div>\n",
              "  </div>\n",
              "  "
            ]
          },
          "metadata": {},
          "execution_count": 7
        }
      ]
    },
    {
      "cell_type": "code",
      "source": [
        "# 예측에 사용될 지표 생성\n",
        "# 상장일 ~ 데이터셋에 존재하는 날짜, Days\n",
        "obs = np.arange(1, len(dataset) + 1, 1)\n",
        "\n",
        "# 예측에 사용되는 각종 지표들\n",
        "OHLC_avg = dataset[['Open', 'High', 'Low', 'Close']].mean(axis=1)\n",
        "HLC_avg = dataset[['High', 'Low', 'Close']].mean(axis=1)\n",
        "close_val = dataset['Close']"
      ],
      "metadata": {
        "id": "ClbpRYasCENK"
      },
      "execution_count": 8,
      "outputs": []
    },
    {
      "cell_type": "code",
      "source": [
        "# 사용되는 지표들을 한번에 표시\n",
        "plt.plot(obs, OHLC_avg, 'r', label = 'OHLC avg')\n",
        "plt.plot(obs, HLC_avg, 'b', label = 'HLC avg')\n",
        "plt.plot(obs, close_val, 'g', label = 'Closing price')\n",
        "plt.legend(loc = 'upper right')\n",
        "plt.show()"
      ],
      "metadata": {
        "colab": {
          "base_uri": "https://localhost:8080/",
          "height": 265
        },
        "id": "NZV7woVKDuFu",
        "outputId": "46bf69d6-93fd-4808-e444-faf3db50e459"
      },
      "execution_count": 9,
      "outputs": [
        {
          "output_type": "display_data",
          "data": {
            "text/plain": [
              "<Figure size 432x288 with 1 Axes>"
            ],
            "image/png": "[encoded data removed]"
          },
          "metadata": {
            "needs_background": "light"
          }
        }
      ]
    },
    {
      "cell_type": "code",
      "source": [
        "# 시계열 데이터로 준비\n",
        "scaler = MinMaxScaler(feature_range=(0, 1))\n",
        "\n",
        "OHLC_avg = np.reshape(OHLC_avg.values, (len(OHLC_avg), 1))\n",
        "OHLC_avg = scaler.fit_transform(OHLC_avg)"
      ],
      "metadata": {
        "id": "eZ705UnGFBn0"
      },
      "execution_count": 10,
      "outputs": []
    },
    {
      "cell_type": "code",
      "source": [
        "# 준비된 시계열 Dataset을 Train Set과 Test Set으로 나눔 → Train : Test = 0.75 : 0.25\n",
        "train_OHLC = int(len(OHLC_avg) * 0.75)\n",
        "test_OHLC = len(OHLC_avg) - train_OHLC\n",
        "train_OHLC, test_OHLC = OHLC_avg[:train_OHLC,:], OHLC_avg[train_OHLC:len(OHLC_avg),:]\n",
        "\n",
        "# Dataset을 Feature와 Groundtruth로 분리\n",
        "train_x, train_y = new_dataset(train_OHLC, 1)\n",
        "test_x, test_y = new_dataset(test_OHLC, 1)\n",
        "\n",
        "# Feature Reshaping\n",
        "train_x = np.reshape(train_x, (train_x.shape[0], 1, train_x.shape[1]))\n",
        "test_x = np.reshape(test_x, (test_x.shape[0], 1, test_x.shape[1]))\n",
        "step_size = 1"
      ],
      "metadata": {
        "id": "ubf7E1pPFbQ9"
      },
      "execution_count": 11,
      "outputs": []
    },
    {
      "cell_type": "code",
      "source": [
        "# 모델 생성, 객체로 생성하지 않음.\n",
        "model = Sequential()\n",
        "model.add(LSTM(32, input_shape=(1, step_size), return_sequences=True))\n",
        "model.add(LSTM(16))\n",
        "model.add(Dense(1))\n",
        "model.add(Activation('linear'))"
      ],
      "metadata": {
        "id": "7A83kTjzJYhf"
      },
      "execution_count": 12,
      "outputs": []
    },
    {
      "cell_type": "code",
      "source": [
        "# 모델 컴파일, 모델 훈련\n",
        "model.compile(loss='mean_squared_error', optimizer='adagrad')\n",
        "model.fit(train_x, train_y, epochs=5, batch_size=1, verbose=2)"
      ],
      "metadata": {
        "colab": {
          "base_uri": "https://localhost:8080/"
        },
        "id": "9Dbw9uSkKC3v",
        "outputId": "863b86d8-4119-4479-8221-d7885e5ef334"
      },
      "execution_count": 13,
      "outputs": [
        {
          "output_type": "stream",
          "name": "stdout",
          "text": [
            "Epoch 1/5\n",
            "2443/2443 - 18s - loss: 0.0083 - 18s/epoch - 7ms/step\n",
            "Epoch 2/5\n",
            "2443/2443 - 9s - loss: 0.0057 - 9s/epoch - 4ms/step\n",
            "Epoch 3/5\n",
            "2443/2443 - 8s - loss: 0.0055 - 8s/epoch - 3ms/step\n",
            "Epoch 4/5\n",
            "2443/2443 - 8s - loss: 0.0055 - 8s/epoch - 3ms/step\n",
            "Epoch 5/5\n",
            "2443/2443 - 8s - loss: 0.0055 - 8s/epoch - 3ms/step\n"
          ]
        },
        {
          "output_type": "execute_result",
          "data": {
            "text/plain": [
              "<keras.callbacks.History at 0x7f5d340de070>"
            ]
          },
          "metadata": {},
          "execution_count": 13
        }
      ]
    },
    {
      "cell_type": "code",
      "source": [
        "# 훈련과 검정 데이터의 예측 실시\n",
        "train_p = model.predict(train_x)\n",
        "test_p = model.predict(test_x)"
      ],
      "metadata": {
        "colab": {
          "base_uri": "https://localhost:8080/"
        },
        "id": "wJ516TseKZq3",
        "outputId": "1d99cd3c-1d6b-4eca-d8a1-8314ce6f2e2d"
      },
      "execution_count": 14,
      "outputs": [
        {
          "output_type": "stream",
          "name": "stdout",
          "text": [
            "77/77 [==============================] - 1s 2ms/step\n",
            "26/26 [==============================] - 0s 2ms/step\n"
          ]
        }
      ]
    },
    {
      "cell_type": "code",
      "source": [
        "# 예측된 데이터들을 반 정규화, 데이터의 단순성을 보장?\n",
        "train_p = scaler.inverse_transform(train_p)\n",
        "train_y = scaler.inverse_transform([train_y])\n",
        "\n",
        "test_p = scaler.inverse_transform(test_p)\n",
        "test_y = scaler.inverse_transform([test_y])"
      ],
      "metadata": {
        "id": "TG6iPx6xP1To"
      },
      "execution_count": 15,
      "outputs": []
    },
    {
      "cell_type": "code",
      "source": [
        "# 훈련 RMSE와 검정 RMSE 출력\n",
        "train_score = math.sqrt(mean_squared_error(train_y[0], train_p[:,0]))\n",
        "print('Train RMSE: %.2f' % (train_score))\n",
        "\n",
        "test_score = math.sqrt(mean_squared_error(test_y[0], test_p[:,0]))\n",
        "print('Test RMSE: %.2f' % (test_score))"
      ],
      "metadata": {
        "colab": {
          "base_uri": "https://localhost:8080/"
        },
        "id": "F6O7dqfHQOp8",
        "outputId": "ae51da1f-1335-41c2-c266-734db21aa069"
      },
      "execution_count": 16,
      "outputs": [
        {
          "output_type": "stream",
          "name": "stdout",
          "text": [
            "Train RMSE: 12.88\n",
            "Test RMSE: 105.00\n"
          ]
        }
      ]
    },
    {
      "cell_type": "code",
      "source": [
        "# 훈련 데이터 예측에 대한 그래프 생성\n",
        "train_p_plot = np.empty_like(OHLC_avg)\n",
        "train_p_plot[:, :] = np.nan\n",
        "train_p_plot[step_size : len(train_p) + step_size, :] = train_p"
      ],
      "metadata": {
        "id": "HUz-r_T8QkHF"
      },
      "execution_count": 17,
      "outputs": []
    },
    {
      "cell_type": "code",
      "source": [
        "# 검정 데이터 예측에 대한 그래프 생성\n",
        "test_p_plot = np.empty_like(OHLC_avg)\n",
        "test_p_plot[:, :] = np.nan\n",
        "test_p_plot[len(train_p) + (step_size * 2) + 1 : len(OHLC_avg) - 1, :] = test_p"
      ],
      "metadata": {
        "id": "sak5DYuPR1nV"
      },
      "execution_count": 18,
      "outputs": []
    },
    {
      "cell_type": "code",
      "source": [
        "# 메인 Dataset 반정규화\n",
        "OHLC_avg = scaler.inverse_transform(OHLC_avg)"
      ],
      "metadata": {
        "id": "oQPTJSKnRrxt"
      },
      "execution_count": 19,
      "outputs": []
    },
    {
      "cell_type": "code",
      "source": [
        "plt.plot(OHLC_avg, 'g', label = 'original dataset')\n",
        "plt.plot(train_p_plot, 'r', label = 'training set')\n",
        "plt.plot(test_p_plot, 'b', label = 'predicted stock price/test set')\n",
        "plt.legend(loc = 'upper right')\n",
        "plt.xlabel('Time in Days')\n",
        "plt.ylabel('OHLC Value of Apple Stocks')\n",
        "plt.show()"
      ],
      "metadata": {
        "colab": {
          "base_uri": "https://localhost:8080/",
          "height": 279
        },
        "id": "dt1yKqI_RxEa",
        "outputId": "1ba4a237-b595-46d5-b0ce-4d2609058763"
      },
      "execution_count": 20,
      "outputs": [
        {
          "output_type": "display_data",
          "data": {
            "text/plain": [
              "<Figure size 432x288 with 1 Axes>"
            ],
            "image/png": "[encoded data removed]"
          },
          "metadata": {
            "needs_background": "light"
          }
        }
      ]
    },
    {
      "cell_type": "code",
      "source": [
        "plt.plot(train_p_plot, 'r', label = 'training set')\n",
        "plt.plot(test_p_plot, 'b', label = 'predicted stock price/test set')\n",
        "plt.legend(loc = 'upper right')\n",
        "plt.xlabel('Time in Days')\n",
        "plt.ylabel('OHLC Value of Apple Stocks')\n",
        "plt.show()"
      ],
      "metadata": {
        "colab": {
          "base_uri": "https://localhost:8080/",
          "height": 281
        },
        "id": "-UKuTcrGLOrK",
        "outputId": "82d314c6-e86d-48fc-91b1-92c4f4aa0dbe"
      },
      "execution_count": 21,
      "outputs": [
        {
          "output_type": "display_data",
          "data": {
            "text/plain": [
              "<Figure size 432x288 with 1 Axes>"
            ],
            "image/png": "[encoded data removed]"
          },
          "metadata": {
            "needs_background": "light"
          }
        }
      ]
    },
    {
      "cell_type": "code",
      "source": [
        "last_val = test_p[-1]\n",
        "last_val_scaled = last_val/last_val\n",
        "next_val = model.predict(np.reshape(last_val_scaled, (1,1,1)))\n",
        "print(\"Last Day Value:\", last_val[0])\n",
        "print(\"Next Day Value:\", last_val[0] * next_val[0][0])"
      ],
      "metadata": {
        "colab": {
          "base_uri": "https://localhost:8080/"
        },
        "id": "OyXmM818SU_Q",
        "outputId": "b4bb2415-6f2a-41d0-fd5f-7aac43581322"
      },
      "execution_count": 37,
      "outputs": [
        {
          "output_type": "stream",
          "name": "stdout",
          "text": [
            "1/1 [==============================] - 0s 16ms/step\n",
            "Last Day Value: 25.36324\n",
            "Next Day Value: 2.6344514\n"
          ]
        }
      ]
    }
  ]
}